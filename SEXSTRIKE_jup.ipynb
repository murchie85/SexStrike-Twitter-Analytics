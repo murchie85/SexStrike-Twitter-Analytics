{
 "cells": [
  {
   "cell_type": "markdown",
   "metadata": {},
   "source": [
    "# MURCHIE85 TWITTER PROCESSING (TOPIC = <font color=red >#SexStrike</font> )\n",
    "\n",
    "\n",
    "## AUTOMATED RESEARCH SUMMARY\n",
    "    \n",
    "\n",
    "![image](https://i.ytimg.com/vi/VCJfT9CTuds/maxresdefault.jpg)\n",
    "\n",
    "<br>\n",
    "\n",
    "\n",
    "<div class=\"alert alert-block alert-info\">\n",
    "<b> This repo is for pulling metrics on a given keyword or hashtag and performs a series of reporting and analysis.</b>\n",
    "</div>\n",
    "\n",
    "\n",
    "<br>\n",
    "\n",
    "\n",
    "   \n",
    "\n",
    "\n",
    "![image](BIO.png)\n",
    "\n",
    "*The term that looks like ☐☐ is unicode USA flag*\n",
    "\n",
    "<br>\n",
    "<br>\n",
    "\n",
    "<font size=\"3\">\n",
    "The majority of tweeters on this topic describe themselves in their Bio with **'MAGA'** , **'TRUMP'**, **'GOD'**  and **'PROUD'**. <br>\n",
    "Related terms such as **Feminist**, **Feminism** and **LGBTQ** do not rank in the top 20 terms.\n",
    "</font>\n",
    "\n",
    "\n",
    "The top most popular words tweeted are :\n",
    "\n",
    "\n",
    "- **#SexStrike**\n",
    "- **women**\n",
    "- **@Alyssa_Milano**\n",
    "- **Alyssa**\n",
    "- **sex**\n",
    "- **her**\n",
    "- **abortion**\n",
    "- **control**\n",
    "- **men**\n",
    "- **unwanted**\n",
    "\n",
    "\n",
    "![image](TWEETS.png)\n",
    "    \n",
    "    \n",
    "### SENTIMENT ANALYSIS\n",
    "VIEWS WERE : **SUBJECTIVE**  (40%) & **NEGATIVELY-SUBJECTIVE** (30%) **OBJECTIVE** (30%)\n",
    "\n",
    "### TWEET SAMPLE \n",
    "\n",
    "Random value picked from array: \n",
    "\n",
    "\n",
    "<div class=\"alert alert-block alert-info\">\n",
    "<b>18 May 2019:</b> @Alyssa_Milano @Alyssa_Milano Funny how we didn't hear a peep from you when our sisters are getting murdered\n",
    "</div>\n",
    "\n",
    "\n",
    "### MOST RETWEETED\n",
    "\n",
    "Technically the most popular tweet (note, this is not always the source of the hashtag)\n",
    "\n",
    "<div class=\"alert alert-block alert-danger\">\n",
    "<font size=\"3\"><b>@Alyssa_Milano</b> Our reproductive rights are being erased.\n",
    "\n",
    "Until women have legal control over our own bodies we just cannot risk pregnancy. \n",
    "\n",
    "JOIN ME by not having sex until we get bodily autonomy back.\n",
    "\n",
    "I’m calling for a #SexStrike. Pass it on.</font>\n",
    "</div>\n",
    "\n",
    "\n",
    "\n",
    "### ANALYSIS CRITIQUE\n",
    "\n",
    "<br>\n",
    "<font size=\"3\">\n",
    "\n",
    "All the tweets & replies relating to #SexStrike were mined, this includes over 100,000 tweets in May 2009. The most frequently tweeted terms, match the #SexStrike theme, yet they are (over 90%) tweeted by people who do not describe themselves with terms such as **Feminist**, **Feminism** and **LGBTQ** . Additionally the combined Sentiment analysis shows the majority of tweets to be Subjective (i.e. opinion based) with a considerable 30% being flagged as **NEGATIVELY-SUBJECTIVE**. \n",
    "\n",
    "</font>\n",
    "\n",
    "<br><br>\n",
    "\n",
    "<font size=\"3\">\n",
    "\n",
    "It can be seen when working through the tweet_array, this analysis requires factoring in upstream influences. Due to the close connection with #Alabama and #AbortionBan (which is cited frequently) - this influences the otheral tweet sentiment and the three hashtags are not mutually exclusive. However when cross referencing with analytics from #Alabama the tweet Bio and Tweet content are 60-80% the same terms. \n",
    "\n",
    "</font>\n",
    "\n",
    "<br>\n",
    "\n",
    "<font size=\"3\">\n",
    "No information was removed or specially selected for apart from gramatically netural terms listed in code below i.e. `delx['THE']` removed all `the` terms from word count. There are limitations to this research covered in technical detail below, but the key issue being this report was taken after the hashtag stopped trending, it peaked at 500 tweets per minute - thus whilst this data is the complete overview, it did not show how opinions changed over time. I.e. were there changes in objectivity post completion of tweet threads.\n",
    "\n",
    "</font>\n",
    "\n",
    "<br>\n",
    "\n",
    "\n",
    "### CONCLUSION & EXTERNAL ANALYSIS\n",
    "\n",
    "*This is my (Adam McMurchie's) opinion on the data from the tweets, it serves as no objective truth.Since the tweets themselves are a mixture of fact & opinion. \n",
    "\n",
    "<br>\n",
    "<font size=\"3\">\n",
    "The **#SexStrike** did not appear to achieve it's direct goals, as the target audience were not reached, to be specific the target audience failed to properly carry momentum by not using # prefix in retweets or replies. \n",
    "<br>\n",
    "This meant that twitter daily newsfeed did not flag to topic as trending long, only the Author (Milano) had kept the momentum afloat by number of retweets. Whilst the media still reports the topic as trending, it is not, trend duration lasted approximately 13 days. \n",
    "<br>\n",
    "\n",
    "The cause was further hampered by it's attempt to pre-empt the abortion-ban, which meant it pulled in significant politically charged tweets. As a result the majority of the noise is from people with Republican and right leaning Bios which impacted the overall sentiment of the tweets. \n",
    "\n",
    "<br><br>\n",
    "\n",
    "**RECOMMENDATIONS** it is clear that to progress a tweeting trend the more a #hashtag is used, the more likely that topic is to trend. Additionally, topics that have direct link to political topics may be at risk from hijacking or reduced positive sentiment. \n",
    "</font>\n",
    "\n",
    "<br>"
   ]
  },
  {
   "cell_type": "markdown",
   "metadata": {},
   "source": [
    "# TECHNICAL WALKTHROUGH \n",
    "\n",
    "\n",
    "## OVERVIEW\n",
    "\n",
    "**SKIP TO BOTTOM FOR FULL RESULTS & GRAPH BREAKDOWN **\n",
    "\n",
    "- Pulls live tweets from all over twitter \n",
    "- Imports Tweepy Library \n",
    "- Consumes Twitter API \n",
    "- Desgined to be keyword driven\n",
    "- All metrics can be captured\n",
    "- No limit on Runtime (best to terminate when you want)\n",
    "\n",
    "## Limitations & info\n",
    "1. LOCATION filter is tricky\n",
    "2. Streaming connects to the “public streams” (all public data) \n",
    "3. This is data provided by the Twitter API which accesses their database, the maintenence of DB and thus data quality is managed by Twitter\n",
    "\n",
    "Example of parameter setting done in stream filter \n",
    "\n",
    "```\n",
    "stream.filter(follow=[\"2211149702\"])\n",
    "```\n",
    "\n",
    "\n",
    "### AUTHOR : ADAM MCMURCHIE \n",
    "\n",
    "![image](https://s3.amazonaws.com/re-work-production/avatars/1104/original.png?1485507466)\n",
    "\n",
    "Github [here](https://github.com/murchie85)  \n",
    "\n",
    "Mysite [here](https://murchie85.github.io/)"
   ]
  },
  {
   "cell_type": "markdown",
   "metadata": {},
   "source": [
    "# AUTHENTICATION\n",
    "\n",
    "You will need to change f variable to point to your credentials file, I save mines in a text file and split the comma. Not uploaded to this repo obviously."
   ]
  },
  {
   "cell_type": "code",
   "execution_count": 1,
   "metadata": {
    "collapsed": true
   },
   "outputs": [],
   "source": [
    "import datetime\n",
    "\n",
    "\n",
    "f = open(\"../donotgit/access.txt\", \"r\")\n",
    "keys = f.read()\n",
    "f.close()\n",
    "keys  = keys.split(',')\n",
    "#print(\"Access Keys are : \" + str(keys))\n",
    "ACCESS_TOKEN = keys[0]\n",
    "ACCESS_SECRET = keys[1]\n",
    "\n",
    "\n",
    "f = open(\"../donotgit/consumer.txt\", \"r\")\n",
    "keys = f.read()\n",
    "keys  = keys.split(',')\n",
    "#print(\"Consumer Keys are : \" + str(keys))\n",
    "CONSUMER_KEY = keys[0]\n",
    "CONSUMER_SECRET = keys[1]\n"
   ]
  },
  {
   "cell_type": "markdown",
   "metadata": {},
   "source": [
    "# PULLING DOWN THE DATA \n",
    "\n",
    "This is where the magic happens, api authentication is set up, tweepy library is imported for the work and a class allow us to pull live data. This is appended to array for processing later. \n",
    "\n",
    "If you want to change the parameters, edit the following line:  \n",
    "\n",
    "```\n",
    "stream.filter(track=[\"SexStrike\"],languages=[\"en\"])\n",
    "```\n",
    "\n",
    "*NOTE* -   this will just keep running until you force terminate, i haven't added in a terminate loop yet."
   ]
  },
  {
   "cell_type": "code",
   "execution_count": 3,
   "metadata": {
    "scrolled": true
   },
   "outputs": [
    {
     "data": {
      "application/vnd.jupyter.widget-view+json": {
       "model_id": "14093bdcf0ef469ea0508e4702297354"
      }
     },
     "metadata": {},
     "output_type": "display_data"
    },
    {
     "name": "stdout",
     "output_type": "stream",
     "text": [
      "Pulling down data.....\n",
      "Processing complete\n"
     ]
    },
    {
     "data": {
      "text/plain": [
       "'\\n\\nf = IntProgress(min=0, max=max_count) # instantiate the bar\\ndisplay(f) # display the bar\\n\\n\\n\\nclass StreamListener(tweepy.StreamListener):\\n    tweet_number=0   # class variable\\n    \\n\\n\\n    def on_status(self, status):\\n        self.max_tweets=max_count # max number of tweets\\n        self.tweet_number+=1   \\n        f.value += 1 # signal to increment the progress bar\\n        time.sleep(.1)\\n        status_array.append(status._json)\\n\\n        if self.tweet_number>=self.max_tweets:\\n            sys.exit(\\'PROCESSING COMPLETE : \\'+str(self.max_tweets)+\\' tweets processed.\\')\\n\\n        \\n    def on_error(self, status_code):\\n        if status_code == 420:\\n            return False\\n\\nstream_listener = StreamListener()\\nstream = tweepy.Stream(auth=api.auth, listener=stream_listener)\\n\\nprint(\\'Pulling down data.....\\')\\nstream.filter(track=[\"#Alabama\"],languages=[\"en\"])\\n\\n'"
      ]
     },
     "execution_count": 3,
     "metadata": {},
     "output_type": "execute_result"
    }
   ],
   "source": [
    "from ipywidgets import IntProgress\n",
    "from IPython.display import display\n",
    "import time\n",
    "\n",
    "import sys\n",
    "# Import the necessary package to process data in JSON format\n",
    "try:\n",
    "    import json\n",
    "except ImportError:\n",
    "    import simplejson as json\n",
    "\n",
    "# Import the tweepy library\n",
    "import tweepy\n",
    "\n",
    "# Variables that contains the user credentials to access Twitter API \n",
    "# Captured earlier \n",
    "\n",
    "# Setup tweepy to authenticate with Twitter credentials:\n",
    "\n",
    "auth = tweepy.OAuthHandler(CONSUMER_KEY, CONSUMER_SECRET)\n",
    "auth.set_access_token(ACCESS_TOKEN, ACCESS_SECRET)\n",
    "\n",
    "# Create the api to connect to twitter with your creadentials\n",
    "api = tweepy.API(auth, wait_on_rate_limit=True, wait_on_rate_limit_notify=True, compression=True)\n",
    "\n",
    "status_array = []\n",
    "LOOP_COUNT = 0\n",
    "max_count = 10000\n",
    "\n",
    "\n",
    "# Search for 10 most recent tweets about \"#sexstrike\"\n",
    "tweets = tweepy.Cursor(api.search, q='SexStrike', count=int(max_count))\n",
    "\n",
    "# TRACK PROGRESS\n",
    "f = IntProgress(min=0, max=max_count) # instantiate the bar\n",
    "display(f) # display the bar\n",
    "\n",
    "\n",
    "print('Pulling down data.....')                    \n",
    "for tweet in tweets.items(int(max_count)):\n",
    "    f.value+=1\n",
    "    time.sleep(.1)\n",
    "    status_array.append(tweet._json)\n",
    "\n",
    "\n",
    "\n",
    "\n",
    "print('Processing complete')\n",
    "\n",
    "#-------------------STREAMING SWITCHED OFF AS NO LONGER TRENDING, DATA CAPTURED HISTORICALLY NOW -------------\n",
    "\"\"\"\n",
    "\n",
    "f = IntProgress(min=0, max=max_count) # instantiate the bar\n",
    "display(f) # display the bar\n",
    "\n",
    "\n",
    "\n",
    "class StreamListener(tweepy.StreamListener):\n",
    "    tweet_number=0   # class variable\n",
    "    \n",
    "\n",
    "\n",
    "    def on_status(self, status):\n",
    "        self.max_tweets=max_count # max number of tweets\n",
    "        self.tweet_number+=1   \n",
    "        f.value += 1 # signal to increment the progress bar\n",
    "        time.sleep(.1)\n",
    "        status_array.append(status._json)\n",
    "\n",
    "        if self.tweet_number>=self.max_tweets:\n",
    "            sys.exit('PROCESSING COMPLETE : '+str(self.max_tweets)+' tweets processed.')\n",
    "\n",
    "        \n",
    "    def on_error(self, status_code):\n",
    "        if status_code == 420:\n",
    "            return False\n",
    "\n",
    "stream_listener = StreamListener()\n",
    "stream = tweepy.Stream(auth=api.auth, listener=stream_listener)\n",
    "\n",
    "print('Pulling down data.....')\n",
    "stream.filter(track=[\"#Alabama\"],languages=[\"en\"])\n",
    "\n",
    "\"\"\""
   ]
  },
  {
   "cell_type": "markdown",
   "metadata": {},
   "source": [
    "# PRINT AND SAVE DATA\n",
    "\n",
    "This section allows me to pull the recently mined data into a file in raw format incase i need it later."
   ]
  },
  {
   "cell_type": "code",
   "execution_count": 3,
   "metadata": {},
   "outputs": [
    {
     "name": "stdout",
     "output_type": "stream",
     "text": [
      "data/streamout-2019-05-18 13:27:04.247675.txt\n"
     ]
    }
   ],
   "source": [
    "currentDT = datetime.datetime.now()\n",
    "filename = \"data/streamout-\" + str(currentDT) + \".txt\"\n",
    "\n",
    "print(filename)\n",
    "\n",
    "with open(filename, 'w') as f:\n",
    "    for item in status_array:\n",
    "        f.write(\"%s\\n\" % item)\n",
    "f.close()"
   ]
  },
  {
   "cell_type": "markdown",
   "metadata": {},
   "source": [
    "# STREAM METADATA"
   ]
  },
  {
   "cell_type": "code",
   "execution_count": 66,
   "metadata": {},
   "outputs": [
    {
     "name": "stdout",
     "output_type": "stream",
     "text": [
      "Number of records\n",
      "10000\n",
      "\n",
      "The data keys are : \n",
      "dict_keys(['created_at', 'id', 'id_str', 'text', 'truncated', 'entities', 'metadata', 'source', 'in_reply_to_status_id', 'in_reply_to_status_id_str', 'in_reply_to_user_id', 'in_reply_to_user_id_str', 'in_reply_to_screen_name', 'user', 'geo', 'coordinates', 'place', 'contributors', 'is_quote_status', 'retweet_count', 'favorite_count', 'favorited', 'retweeted', 'lang'])\n",
      "\n",
      "An example element looks like: \n",
      "{'created_at': 'Sat May 18 12:51:07 +0000 2019', 'id': 1129731138107432960, 'id_str': '1129731138107432960', 'text': '@Alyssa_Milano So you are pitting women against their own children?  And you know that pregnancy isn\\'t \"forced\" (in… https://t.co/QtVZbZIPnO', 'truncated': True, 'entities': {'hashtags': [], 'symbols': [], 'user_mentions': [{'screen_name': 'Alyssa_Milano', 'name': 'Alyssa Milano', 'id': 26642006, 'id_str': '26642006', 'indices': [0, 14]}], 'urls': [{'url': 'https://t.co/QtVZbZIPnO', 'expanded_url': 'https://twitter.com/i/web/status/1129731138107432960', 'display_url': 'twitter.com/i/web/status/1…', 'indices': [117, 140]}]}, 'metadata': {'iso_language_code': 'en', 'result_type': 'recent'}, 'source': '<a href=\"http://twitter.com\" rel=\"nofollow\">Twitter Web Client</a>', 'in_reply_to_status_id': 1128019637810024449, 'in_reply_to_status_id_str': '1128019637810024449', 'in_reply_to_user_id': 26642006, 'in_reply_to_user_id_str': '26642006', 'in_reply_to_screen_name': 'Alyssa_Milano', 'user': {'id': 919254998768324609, 'id_str': '919254998768324609', 'name': 'Deacon Anthony Miller', 'screen_name': 'seduxisti_me', 'location': 'United States', 'description': 'Deacon.  Beloved child of God.', 'url': 'https://t.co/BvlyAusl4F', 'entities': {'url': {'urls': [{'url': 'https://t.co/BvlyAusl4F', 'expanded_url': 'https://www.facebook.com/youdupedmelord/', 'display_url': 'facebook.com/youdupedmelord/', 'indices': [0, 23]}]}, 'description': {'urls': []}}, 'protected': False, 'followers_count': 19, 'friends_count': 30, 'listed_count': 0, 'created_at': 'Sat Oct 14 17:34:05 +0000 2017', 'favourites_count': 528, 'utc_offset': None, 'time_zone': None, 'geo_enabled': False, 'verified': False, 'statuses_count': 399, 'lang': 'en', 'contributors_enabled': False, 'is_translator': False, 'is_translation_enabled': False, 'profile_background_color': 'F5F8FA', 'profile_background_image_url': None, 'profile_background_image_url_https': None, 'profile_background_tile': False, 'profile_image_url': 'http://pbs.twimg.com/profile_images/919284135537061888/sLO7gPSp_normal.jpg', 'profile_image_url_https': 'https://pbs.twimg.com/profile_images/919284135537061888/sLO7gPSp_normal.jpg', 'profile_banner_url': 'https://pbs.twimg.com/profile_banners/919254998768324609/1508011271', 'profile_link_color': '1DA1F2', 'profile_sidebar_border_color': 'C0DEED', 'profile_sidebar_fill_color': 'DDEEF6', 'profile_text_color': '333333', 'profile_use_background_image': True, 'has_extended_profile': True, 'default_profile': True, 'default_profile_image': False, 'following': False, 'follow_request_sent': False, 'notifications': False, 'translator_type': 'none'}, 'geo': None, 'coordinates': None, 'place': None, 'contributors': None, 'is_quote_status': False, 'retweet_count': 0, 'favorite_count': 0, 'favorited': False, 'retweeted': False, 'lang': 'en'}\n"
     ]
    }
   ],
   "source": [
    "print('Number of records')\n",
    "print(len(status_array))\n",
    "print('')\n",
    "print('The data keys are : ')\n",
    "print(status_array[0].keys())\n",
    "print('')\n",
    "print('An example element looks like: ')\n",
    "print(status_array[0])"
   ]
  },
  {
   "cell_type": "markdown",
   "metadata": {},
   "source": [
    "# REPORT GENERATION"
   ]
  },
  {
   "cell_type": "code",
   "execution_count": null,
   "metadata": {
    "collapsed": true,
    "scrolled": true
   },
   "outputs": [],
   "source": [
    "# WRITE OUT FULL REPORT\n",
    "reportfile = \"reports/printout-\"+ str(currentDT) + \".txt\"\n",
    "descriptionfile = \"data/description/printout-\"+ str(currentDT) + \".txt\"\n",
    "tweetfile = \"data/tweet/printout-\"+ str(currentDT) + \".txt\"\n",
    "\n",
    "REPORTCOUNT = 0\n",
    "with open(reportfile, 'w') as f:\n",
    "    for y in range(0, len(status_array)):\n",
    "        REPORTCOUNT = REPORTCOUNT + 1\n",
    "        f.write('************************************************************\\n')\n",
    "        f.write(status_array[y]['text'])\n",
    "        f.write('------------------------------\\n')\n",
    "        f.write(status_array[y]['created_at'])\n",
    "        f.write('------------------------------\\n')\n",
    "        f.write(status_array[y]['user']['name'])\n",
    "        f.write('------------------------------\\n')\n",
    "        f.write(str(status_array[y]['user']['location']))\n",
    "        f.write('------------------------------\\n')\n",
    "        f.write(str(status_array[y]['user']['description']))\n",
    "        f.write('--------------REPLY COUNT----------------\\n|')\n",
    "        f.write(str(status_array[y]['reply_count']))\n",
    "        f.write('--------------RETWEET COUNT----------------\\n')\n",
    "        f.write(str(status_array[y]['retweet_count']))\n",
    "        f.write('--------------RETWEETED?----------------\\n')\n",
    "        f.write(str(status_array[y]['retweeted']))\n",
    "        f.write('--------------RETWEET COUNT----------------\\n')\n",
    "        f.write(str(status_array[y]['retweet_count']))\n",
    "        f.write('--------------FAVOURITED----------------\\n')\n",
    "        f.write(str(status_array[y]['favorited']))\n",
    "        f.write('--------------FAVOURITE COUNT----------------\\n')\n",
    "        f.write(str(status_array[y]['favorite_count']))\n",
    "        f.write('\\n')\n",
    "        f.write('\\n')\n",
    "    f.write('number of records are : ')\n",
    "    f.write(str(REPORTCOUNT))\n",
    "        \n",
    "f.close()\n",
    "    \n",
    "    \n",
    "# WRITE OUT ONLY DESCRIPTION\n",
    "    \n",
    "REPORTCOUNT = 0\n",
    "with open(descriptionfile, 'w') as f:\n",
    "    for y in range(0, len(status_array)):\n",
    "        REPORTCOUNT = REPORTCOUNT + 1\n",
    "        f.write('************************************************************\\n')\n",
    "        f.write(str(status_array[y]['user']['description']))\n",
    "        f.write('\\n')\n",
    "    f.write('number of records are : ')\n",
    "    f.write(str(REPORTCOUNT))\n",
    "        \n",
    "f.close()\n",
    "    \n",
    "\n",
    "# WRITE OUT ONLY TWEET\n",
    "    \n",
    "REPORTCOUNT = 0\n",
    "with open(tweetfile, 'w') as f:\n",
    "    for y in range(0, len(status_array)):\n",
    "        REPORTCOUNT = REPORTCOUNT + 1\n",
    "        f.write('************************************************************\\n')\n",
    "        f.write(status_array[y]['text'])\n",
    "        f.write('\\n')\n",
    "    f.write('number of records are : ')\n",
    "    f.write(str(REPORTCOUNT))\n",
    "        \n",
    "f.close()\n",
    "\n",
    "    \n",
    "    \n",
    "    \n",
    "    \n",
    "    \n",
    "print('=========================SAMPLE OUTPUT================================')\n",
    "print('************************************************************')\n",
    "print(status_array[0]['text'])\n",
    "print('------------------------------')\n",
    "print(status_array[0]['created_at'])\n",
    "print('------------------------------')\n",
    "print(status_array[0]['user']['name'])\n",
    "print('------------------------------')\n",
    "print(status_array[0]['user']['location'])\n",
    "print('------------------------------')\n",
    "print(status_array[0]['user']['description'])\n",
    "print('--------------REPLY COUNT----------------')\n",
    "print(status_array[0]['reply_count'])\n",
    "print('--------------RETWEET COUNT----------------')\n",
    "print(status_array[0]['retweet_count'])\n",
    "print('--------------RETWEETED?----------------') \n",
    "print(status_array[0]['retweeted'])\n",
    "print('--------------RETWEET COUNT----------------')\n",
    "print(status_array[0]['retweet_count'])\n",
    "print('--------------FAVOURITED----------------')\n",
    "print(status_array[0]['favorited'])\n",
    "print('--------------FAVOURITE COUNT----------------')\n",
    "print(status_array[0]['favorite_count'])\n",
    "\n"
   ]
  },
  {
   "cell_type": "markdown",
   "metadata": {},
   "source": [
    "## USER DESCRIPTION NUMERICAL ANALYSIS\n",
    "\n",
    "Change the below values to see how they rank in tweet frequency \n",
    "\n",
    "```\n",
    "WORDONE=''\n",
    "WORDTWO=''\n",
    "WORDTHREE=''\n",
    "```"
   ]
  },
  {
   "cell_type": "code",
   "execution_count": 6,
   "metadata": {},
   "outputs": [
    {
     "name": "stdout",
     "output_type": "stream",
     "text": [
      "Total count of words - #MAGA :981\n",
      "Total count of words - me :3110\n",
      "Total count of words - feminist :64\n",
      "Total Number of Records: 10000\n"
     ]
    }
   ],
   "source": [
    "\n",
    "WORDONE='#MAGA'\n",
    "WORDTWO='me'\n",
    "WORDTHREE='feminist'\n",
    "\n",
    "WORDONE_COUNT = 0\n",
    "WORDTWO_COUNT = 0 \n",
    "WORDTHREE_COUNT = 0 \n",
    "\n",
    "linecount = 0\n",
    "APPENDED_DESCRIPTION = \"\"\n",
    "\n",
    "\n",
    "\n",
    "for x in range(0, len(status_array)):\n",
    "    linecount = linecount + 1\n",
    "    description = status_array[x]['user']['description']\n",
    "    APPENDED_DESCRIPTION = APPENDED_DESCRIPTION + str(description)\n",
    "    \n",
    "    \n",
    "    if str(description).count(str(WORDONE)) >= 1:\n",
    "        WORDONE_COUNT = WORDONE_COUNT + 1\n",
    "\n",
    "    if str(description).count(str(WORDTWO)) >= 1:\n",
    "        WORDTWO_COUNT = WORDTWO_COUNT + 1\n",
    "\n",
    "    if str(description).count(str(WORDTHREE)) >= 1:\n",
    "        WORDTHREE_COUNT = WORDTHREE_COUNT + 1\n",
    "        \n",
    "print('Total count of words - ' + str(WORDONE) + ' :' + str(WORDONE_COUNT))\n",
    "print('Total count of words - ' + str(WORDTWO) + ' :' + str(WORDTWO_COUNT))\n",
    "print('Total count of words - ' + str(WORDTHREE) + ' :' + str(WORDTHREE_COUNT))\n",
    "print('Total Number of Records: ' + str(linecount))    "
   ]
  },
  {
   "cell_type": "code",
   "execution_count": 27,
   "metadata": {
    "scrolled": true
   },
   "outputs": [
    {
     "name": "stdout",
     "output_type": "stream",
     "text": [
      "OrderedDict([('#MAGA', 567), ('Trump', 289), ('🇺🇸', 218), ('#2A', 213), ('Proud', 181), ('God', 174), ('American', 171), ('#KAG', 161), ('follow', 127), ('people', 127), ('life', 125), ('#Resist', 123), ('Conservative', 122), ('only', 120), ('up', 116), ('political', 107), ('#WWG1WGA', 106), ('want', 105), ('proud', 101), ('time', 100)])\n"
     ]
    }
   ],
   "source": [
    "from collections import Counter, OrderedDict\n",
    "DISC = APPENDED_DESCRIPTION.split()\n",
    "x = Counter(DISC)\n",
    "del x['⠀'],x['what'],x['no'],x['one'],x['.'],x['was'],x['THE'],x['now'],x['more'],x['if'],x['their'],x['or'],x['love'],x['Love'],x['things'],x[\"don't\"], x[\"and\"], x[\"the\"], x[\"of\"],x[\"to\"], x[\"a\"], x[\"I\"], x[\"&\"], x[\"in\"], x[\"for\"], x[\"my\"], x[\"is\"], x[\"the\"], x[\"are\"], x[\"you\"], x[\"on\"]\n",
    "del x[\"with\"], x['We'],x['we'],x[\"not\"], x[\"but\"], x[\"be\"],x['can'], x[\"The\"],x['out'], x[\"No\"], x[\"who\"], x[\"|\"], x[\"about\"], x[\"that\"], x[\"your\"], x[\"•\"], x['from'], x['-'], x['it'], x['am'], x[','], x['like'],x['just']\n",
    "del x['It'],x[\"I'm\"],x[\"I’m\"], x['A'],x['our'],x['/'],x['-'],x['this'],x['have'],x['by'],x['an'],x['going'],x['they'],x['having'],x['all'],x['at'],x['good'],x['do'],x['love'],x['as'],x['My'],x['i'],x['always'],x['me'],x['get'],x['will'],x['so'],x['can',x['⠀']]\n",
    "\n",
    "\n",
    "      \n",
    "            \n",
    "top_bio_desc = OrderedDict(x.most_common(20))\n",
    "print(top_bio_desc)\n"
   ]
  },
  {
   "cell_type": "code",
   "execution_count": 58,
   "metadata": {},
   "outputs": [
    {
     "data": {
      "image/png": "[encoded data removed]",
      "text/plain": [
       "<matplotlib.figure.Figure at 0x120b4b400>"
      ]
     },
     "metadata": {},
     "output_type": "display_data"
    }
   ],
   "source": [
    "import matplotlib.pyplot as plt\n",
    "\n",
    "D = top_bio_desc\n",
    "\n",
    "plt.bar(range(len(D)), list(D.values()), align='center', color=(0.1, 0.5, 1, 0.1),  edgecolor='blue')\n",
    "\n",
    "plt.xticks(range(len(D)), list(D.keys()), rotation='vertical')\n",
    "plt.title(\"Tweeters Bio - Most popular Terms\", fontsize=30)\n",
    "plt.ylabel('Number of Occurrences (thousands)', fontsize=18)\n",
    "plt.xlabel('These are the words in which Tweeters describe themselves', horizontalalignment='left', position=(0,25), fontsize=18)\n",
    "plt.rcParams[\"figure.figsize\"] = (20,10)\n",
    "plt.savefig(\"BIO\", bbox_inches=\"tight\")\n",
    "plt.show()"
   ]
  },
  {
   "cell_type": "markdown",
   "metadata": {},
   "source": [
    "## TWEET NUMERICAL ANALYSIS\n",
    "\n",
    "Change the below values to see how they rank in tweet frequency \n",
    "\n",
    "```\n",
    "WORDONE=''\n",
    "WORDTWO=''\n",
    "WORDTHREE=''\n",
    "```"
   ]
  },
  {
   "cell_type": "code",
   "execution_count": 13,
   "metadata": {
    "scrolled": false
   },
   "outputs": [
    {
     "name": "stdout",
     "output_type": "stream",
     "text": [
      "Total count of words - sex :3148\n",
      "Total count of words - feminist :247\n",
      "Total count of words - women :2085\n",
      "Total Number of Records: 10000\n"
     ]
    }
   ],
   "source": [
    "WORDONE='sex'\n",
    "WORDTWO='feminist'\n",
    "WORDTHREE='women'\n",
    "\n",
    "WORDONE_COUNT = 0\n",
    "WORDTWO_COUNT = 0 \n",
    "WORDTHREE_COUNT = 0 \n",
    "linecount = 0\n",
    "APPENDED_TEXT = \"\"\n",
    "\n",
    "\n",
    "for x in range(0, len(status_array)):\n",
    "    linecount = linecount + 1\n",
    "    text = status_array[x]['text']\n",
    "    APPENDED_TEXT = APPENDED_TEXT + str(text)\n",
    "    \n",
    "    \n",
    "    if str(text).count(str(WORDONE)) >= 1:\n",
    "        WORDONE_COUNT = WORDONE_COUNT + 1\n",
    "\n",
    "    if str(text).count(str(WORDTWO)) >= 1:\n",
    "        WORDTWO_COUNT = WORDTWO_COUNT + 1\n",
    "\n",
    "    if str(text).count(str(WORDTHREE)) >= 1:\n",
    "        WORDTHREE_COUNT = WORDTHREE_COUNT + 1\n",
    "        \n",
    "print('Total count of words - ' + str(WORDONE) + ' :' + str(WORDONE_COUNT))\n",
    "print('Total count of words - ' + str(WORDTWO) + ' :' + str(WORDTWO_COUNT))\n",
    "print('Total count of words - ' + str(WORDTHREE) + ' :' + str(WORDTHREE_COUNT))\n",
    "print('Total Number of Records: ' + str(linecount))\n"
   ]
  },
  {
   "cell_type": "code",
   "execution_count": 14,
   "metadata": {},
   "outputs": [
    {
     "data": {
      "text/plain": [
       "1248898"
      ]
     },
     "execution_count": 14,
     "metadata": {},
     "output_type": "execute_result"
    }
   ],
   "source": [
    "len(APPENDED_TEXT)"
   ]
  },
  {
   "cell_type": "code",
   "execution_count": 18,
   "metadata": {},
   "outputs": [
    {
     "name": "stdout",
     "output_type": "stream",
     "text": [
      "OrderedDict([('#SexStrike', 3339), ('women', 1672), ('@Alyssa_Milano', 1148), ('#sexstrike', 1083), ('Alyssa', 893), ('sex', 862), ('her', 845), ('abortion', 804), ('control', 624), ('need', 609), ('take', 586), ('has', 556), ('no', 548), ('Women', 482), ('Milano', 472), ('how', 467), ('men', 466), ('unwanted', 463), ('birth', 451), ('those', 448)])\n"
     ]
    }
   ],
   "source": [
    "from collections import Counter, OrderedDict\n",
    "DISC = APPENDED_TEXT.split()\n",
    "x = Counter(DISC)\n",
    "del x['⠀'],x['what'],x['what'],x['If'],x['can’t'],x['.'],x['was'],x['THE'],x['now'],x['more'],x['if'],x['their'],x['or'],x['love'],x['Love'],x['things'],x[\"don't\"], x[\"and\"], x[\"the\"], x[\"of\"],x[\"to\"], x[\"a\"], x[\"I\"], x[\"&\"], x[\"in\"], x[\"for\"], x[\"my\"], x[\"is\"], x[\"the\"], x[\"are\"], x[\"you\"], x[\"on\"]\n",
    "del x[\"with\"], x['We'],x['we'],x[\"not\"], x[\"but\"], x[\"be\"],x['can'], x[\"The\"],x['out'], x[\"No\"], x[\"who\"], x[\"|\"], x[\"about\"], x[\"that\"], x[\"your\"], x[\"•\"], x['from'], x['-'], x['it'], x['am'], x[','], x['like'],x['just']\n",
    "del x['It'],x[\"I'm\"],x[\"I’m\"], x['A'],x['our'],x['/'],x['-'],x['this'],x['have'],x['by'],x['an'],x['going'],x['they'],x['having'],x['all'],x['at'],x['good'],x['do'],x['love'],x['as'],x['My'],x['i'],x['always'],x['me'],x['get'],x['will'],x['so'],x['can',x['⠀']]\n",
    "\n",
    "    \n",
    "\n",
    "top_tweets = OrderedDict(x.most_common(20))\n",
    "print(top_tweets)\n"
   ]
  },
  {
   "cell_type": "code",
   "execution_count": 57,
   "metadata": {},
   "outputs": [
    {
     "data": {
      "image/png": "[encoded data removed]",
      "text/plain": [
       "<matplotlib.figure.Figure at 0x118d28e80>"
      ]
     },
     "metadata": {},
     "output_type": "display_data"
    }
   ],
   "source": [
    "import matplotlib.pyplot as plt\n",
    "\n",
    "E = top_tweets\n",
    "\n",
    "plt.bar(range(len(E)), list(E.values()), align='center', color=(0.1, 0.1, 0.1, 0.1),  edgecolor='blue')\n",
    "\n",
    "plt.xticks(range(len(E)), list(E.keys()), rotation='vertical')\n",
    "plt.title(\"Most Frequently Tweeted Words\", fontsize=30)\n",
    "plt.ylabel('Number of Occurrences (thousands)', fontsize=18)\n",
    "plt.xlabel('Tweeted term by Frequency', fontsize=18)\n",
    "plt.rcParams[\"figure.figsize\"] = (20,10)\n",
    "plt.savefig(\"TWEETS\", bbox_inches=\"tight\")\n",
    "plt.show()\n"
   ]
  },
  {
   "cell_type": "markdown",
   "metadata": {
    "collapsed": true
   },
   "source": [
    "# SENTIMENT ANALYSIS \n",
    "\n",
    "The sentiment property returns a named tuple of the form Sentiment (polarity, subjectivity). The polarity score is a float within the range [-1.0, 1.0]. The subjectivity is a float within the range [0.0, 1.0] where 0.0 is very objective and 1.0 is very subjective.\n",
    "\n",
    "# Now the Theory\n",
    "Thanks to Siraj Raval and freecode camp for the sample here\n",
    "\n",
    "TextBlob\n",
    "TextBlob is a Python (2 and 3) library for processing textual data. It provides a simple API for diving into common natural language processing (NLP) tasks such as part-of-speech tagging, noun phrase extraction, sentiment analysis, classification, translation, and more.\n",
    "\n",
    "A textblob can be created in the following way (example, and not part of the original code):\n",
    "\n",
    "example = TextBlob(\"Python is a high-level, general-purpose programming language.\")\n",
    "And tokenization can be performed by the following methods:\n",
    "words: returns the words of text\n",
    "\n",
    "usage:\n",
    "\n",
    "example.words\n",
    "sentences: returns the sentences of text\n",
    "\n",
    "usage:\n",
    "\n",
    "example.sentences\n"
   ]
  },
  {
   "cell_type": "code",
   "execution_count": 60,
   "metadata": {
    "collapsed": true
   },
   "outputs": [],
   "source": [
    "from textblob import TextBlob"
   ]
  },
  {
   "cell_type": "code",
   "execution_count": 61,
   "metadata": {
    "collapsed": true
   },
   "outputs": [],
   "source": [
    "auth = tweepy.OAuthHandler(CONSUMER_KEY, CONSUMER_SECRET)\n",
    "auth.set_access_token(ACCESS_TOKEN, ACCESS_SECRET)\n",
    "api = tweepy.API(auth)"
   ]
  },
  {
   "cell_type": "code",
   "execution_count": 62,
   "metadata": {
    "collapsed": true
   },
   "outputs": [],
   "source": [
    "public_tweets = api.search('#SexStrike')"
   ]
  },
  {
   "cell_type": "code",
   "execution_count": 63,
   "metadata": {},
   "outputs": [
    {
     "name": "stdout",
     "output_type": "stream",
     "text": [
      "Thank you for the #SexStrike, Senator! Keep it going! https://t.co/MP5G8E72za\n",
      "Sentiment(polarity=0.0, subjectivity=0.0)\n",
      "objective\n",
      "\n",
      "\n",
      "RT @415holgate: This! 👇🏾👇🏾👇🏾👇🏿👇🏿Be sure and read this. #TreatGunOwnersLikeWomen #NRARussia #GOPRussia #SexStrike https://t.co/vdaYW0VfUL\n",
      "Sentiment(polarity=0.5, subjectivity=0.8888888888888888)\n",
      "Subjective\n",
      "\n",
      "\n",
      "RT @davidwebbshow: If ⁦@franlebowitz⁩ is the option I’ll take the #SexStrike. ⁦@Alyssa_Milano⁩  https://t.co/7N8RTxkCiZ\n",
      "Sentiment(polarity=0.0, subjectivity=0.0)\n",
      "objective\n",
      "\n",
      "\n",
      "@TRHLofficial Did the lesbians go on a #sexstrike, too?    Just curious.\n",
      "Sentiment(polarity=-0.1, subjectivity=1.0)\n",
      "Negatively subjective\n",
      "\n",
      "\n",
      "RT @denise_artist: If women can’t prevent unwanted pregnancies while having sex—if they need to resort to abortion as birth control —then y…\n",
      "Sentiment(polarity=0.0, subjectivity=0.0)\n",
      "objective\n",
      "\n",
      "\n",
      "RT @davidwebbshow: If ⁦@franlebowitz⁩ is the option I’ll take the #SexStrike. ⁦@Alyssa_Milano⁩  https://t.co/7N8RTxkCiZ\n",
      "Sentiment(polarity=0.0, subjectivity=0.0)\n",
      "objective\n",
      "\n",
      "\n",
      "@Alyssa_Milano Why do actors and actresses actually think people care more about where they will work and earn thei… https://t.co/bxUDYryDcd\n",
      "Sentiment(polarity=0.25, subjectivity=0.3)\n",
      "Subjective\n",
      "\n",
      "\n",
      "RT @TributeProjects: Keep up the #SexStrike \n",
      "\n",
      "Don't relent on the #MeToo\n",
      "\n",
      "And join the rest of the marginalized, be it LGBTQ or Black Lives…\n",
      "Sentiment(polarity=-0.16666666666666666, subjectivity=0.43333333333333335)\n",
      "Negatively subjective\n",
      "\n",
      "\n",
      "@TRHLofficial For a truly effective study of its efficacy we would first need to know if &amp; how much she was getting… https://t.co/0D9bnpPwXC\n",
      "Sentiment(polarity=0.35000000000000003, subjectivity=0.4444444444444444)\n",
      "Subjective\n",
      "\n",
      "\n",
      "RT @RealTimBlack: My wife and I could careless about what Alyssa Milano has to say about our sex life besides we're already on a #SexStrike…\n",
      "Sentiment(polarity=-0.5, subjectivity=0.9)\n",
      "Negatively subjective\n",
      "\n",
      "\n",
      "@jonkay @TorontoStar Lol, she knows the #SexStrike is an absurd proposition but gives a wishy washy take on it in c… https://t.co/m8R00RBrs8\n",
      "Sentiment(polarity=0.15000000000000002, subjectivity=0.85)\n",
      "Subjective\n",
      "\n",
      "\n",
      "objective_tweets : 4\n",
      "subjective_tweets : 4\n",
      "negitively_subjective tweets: 3\n"
     ]
    }
   ],
   "source": [
    "objective_tweet=0\n",
    "subjective_tweet=0\n",
    "negitively_subjective=0\n",
    "for tweet in public_tweets:\n",
    "    print(tweet.text)\n",
    "    analysis = TextBlob(tweet.text)\n",
    "    print(analysis.sentiment)\n",
    "    if analysis.sentiment[0]>0:\n",
    "       subjective_tweet = subjective_tweet + 1\n",
    "       print('Subjective')\n",
    "    elif analysis.sentiment[0]<0:\n",
    "       negitively_subjective = negitively_subjective  + 1\n",
    "       print('Negatively subjective')\n",
    "    else:\n",
    "       objective_tweet = objective_tweet + 1\n",
    "       print('objective')\n",
    "    print('\\n')\n",
    "    \n",
    "print('objective_tweets : '+str(objective_tweet))\n",
    "print('subjective_tweets : '+str(subjective_tweet))\n",
    "print('negitively_subjective tweets: '+str(negitively_subjective))"
   ]
  },
  {
   "cell_type": "code",
   "execution_count": 67,
   "metadata": {},
   "outputs": [
    {
     "name": "stdout",
     "output_type": "stream",
     "text": [
      "Number of records\n",
      "10000\n",
      "\n",
      "The data keys are : \n",
      "dict_keys(['created_at', 'id', 'id_str', 'text', 'truncated', 'entities', 'metadata', 'source', 'in_reply_to_status_id', 'in_reply_to_status_id_str', 'in_reply_to_user_id', 'in_reply_to_user_id_str', 'in_reply_to_screen_name', 'user', 'geo', 'coordinates', 'place', 'contributors', 'is_quote_status', 'retweet_count', 'favorite_count', 'favorited', 'retweeted', 'lang'])\n",
      "\n",
      "An example element looks like: \n",
      "{'created_at': 'Sat May 18 12:51:07 +0000 2019', 'id': 1129731138107432960, 'id_str': '1129731138107432960', 'text': '@Alyssa_Milano So you are pitting women against their own children?  And you know that pregnancy isn\\'t \"forced\" (in… https://t.co/QtVZbZIPnO', 'truncated': True, 'entities': {'hashtags': [], 'symbols': [], 'user_mentions': [{'screen_name': 'Alyssa_Milano', 'name': 'Alyssa Milano', 'id': 26642006, 'id_str': '26642006', 'indices': [0, 14]}], 'urls': [{'url': 'https://t.co/QtVZbZIPnO', 'expanded_url': 'https://twitter.com/i/web/status/1129731138107432960', 'display_url': 'twitter.com/i/web/status/1…', 'indices': [117, 140]}]}, 'metadata': {'iso_language_code': 'en', 'result_type': 'recent'}, 'source': '<a href=\"http://twitter.com\" rel=\"nofollow\">Twitter Web Client</a>', 'in_reply_to_status_id': 1128019637810024449, 'in_reply_to_status_id_str': '1128019637810024449', 'in_reply_to_user_id': 26642006, 'in_reply_to_user_id_str': '26642006', 'in_reply_to_screen_name': 'Alyssa_Milano', 'user': {'id': 919254998768324609, 'id_str': '919254998768324609', 'name': 'Deacon Anthony Miller', 'screen_name': 'seduxisti_me', 'location': 'United States', 'description': 'Deacon.  Beloved child of God.', 'url': 'https://t.co/BvlyAusl4F', 'entities': {'url': {'urls': [{'url': 'https://t.co/BvlyAusl4F', 'expanded_url': 'https://www.facebook.com/youdupedmelord/', 'display_url': 'facebook.com/youdupedmelord/', 'indices': [0, 23]}]}, 'description': {'urls': []}}, 'protected': False, 'followers_count': 19, 'friends_count': 30, 'listed_count': 0, 'created_at': 'Sat Oct 14 17:34:05 +0000 2017', 'favourites_count': 528, 'utc_offset': None, 'time_zone': None, 'geo_enabled': False, 'verified': False, 'statuses_count': 399, 'lang': 'en', 'contributors_enabled': False, 'is_translator': False, 'is_translation_enabled': False, 'profile_background_color': 'F5F8FA', 'profile_background_image_url': None, 'profile_background_image_url_https': None, 'profile_background_tile': False, 'profile_image_url': 'http://pbs.twimg.com/profile_images/919284135537061888/sLO7gPSp_normal.jpg', 'profile_image_url_https': 'https://pbs.twimg.com/profile_images/919284135537061888/sLO7gPSp_normal.jpg', 'profile_banner_url': 'https://pbs.twimg.com/profile_banners/919254998768324609/1508011271', 'profile_link_color': '1DA1F2', 'profile_sidebar_border_color': 'C0DEED', 'profile_sidebar_fill_color': 'DDEEF6', 'profile_text_color': '333333', 'profile_use_background_image': True, 'has_extended_profile': True, 'default_profile': True, 'default_profile_image': False, 'following': False, 'follow_request_sent': False, 'notifications': False, 'translator_type': 'none'}, 'geo': None, 'coordinates': None, 'place': None, 'contributors': None, 'is_quote_status': False, 'retweet_count': 0, 'favorite_count': 0, 'favorited': False, 'retweeted': False, 'lang': 'en'}\n"
     ]
    }
   ],
   "source": [
    "len(status_array)\n",
    "print('Number of records')\n",
    "print(len(status_array))\n",
    "print('')\n",
    "print('The data keys are : ')\n",
    "print(status_array[0].keys())\n",
    "print('')\n",
    "print('An example element looks like: ')\n",
    "print(status_array[0])"
   ]
  },
  {
   "cell_type": "code",
   "execution_count": 136,
   "metadata": {},
   "outputs": [
    {
     "name": "stdout",
     "output_type": "stream",
     "text": [
      "length of retweeted array: 10000\n",
      "most number of retweets: 15402 at index 5405\n",
      "The person who tweeted it was jillrose999\n",
      "Their screename is\" Jill\n",
      "There tweet was : \n",
      "RT @Alyssa_Milano: Our reproductive rights are being erased.\n",
      "\n",
      "Until women have legal control over our own bodies we just cannot risk pregna…\n"
     ]
    }
   ],
   "source": [
    "retweet_array= []\n",
    "for current in range(0, len(status_array)):\n",
    "    retweet_array.append(status_array[current]['retweet_count'])\n",
    "    \n",
    "print('length of retweeted array: ' + str(len(retweet_array)))\n",
    "most_retweeted = max(retweet_array)\n",
    "print(\"most number of retweets: \" + str(most_retweeted) + \" at index \" + str(retweet_array.index(max(retweet_array))))\n",
    "print('The person who tweeted it was ' + str(status_array[retweet_array.index(max(retweet_array))]['user']['screen_name']))\n",
    "print('Their screename is\" ' + str(status_array[retweet_array.index(max(retweet_array))]['user']['name']))\n",
    "print('There tweet was : ')\n",
    "print(status_array[retweet_array.index(max(retweet_array))]['text'])"
   ]
  },
  {
   "cell_type": "code",
   "execution_count": 106,
   "metadata": {},
   "outputs": [
    {
     "data": {
      "text/plain": [
       "'RT @Alyssa_Milano: Our reproductive rights are being erased.\\n\\nUntil women have legal control over our own bodies we just cannot risk pregna…'"
      ]
     },
     "execution_count": 106,
     "metadata": {},
     "output_type": "execute_result"
    }
   ],
   "source": [
    "status_array[retweet_array.index(max(retweet_array))]['text']"
   ]
  },
  {
   "cell_type": "code",
   "execution_count": 102,
   "metadata": {},
   "outputs": [
    {
     "name": "stdout",
     "output_type": "stream",
     "text": [
      "@Alyssa_Milano @Alyssa_Milano Funny how we didn't hear a peep from you when our sisters are getting murdered, yet y… https://t.co/bjFQfULke7\n"
     ]
    }
   ],
   "source": [
    "status_array[2]['text'])"
   ]
  },
  {
   "cell_type": "code",
   "execution_count": null,
   "metadata": {
    "collapsed": true
   },
   "outputs": [],
   "source": []
  }
 ],
 "metadata": {
  "kernelspec": {
   "display_name": "Python 3",
   "language": "python",
   "name": "python3"
  },
  "language_info": {
   "codemirror_mode": {
    "name": "ipython",
    "version": 3
   },
   "file_extension": ".py",
   "mimetype": "text/x-python",
   "name": "python",
   "nbconvert_exporter": "python",
   "pygments_lexer": "ipython3",
   "version": "3.6.1"
  }
 },
 "nbformat": 4,
 "nbformat_minor": 2
}
